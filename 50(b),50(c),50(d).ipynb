{
 "cells": [
  {
   "cell_type": "code",
   "execution_count": null,
   "metadata": {},
   "outputs": [],
   "source": [
    "\n",
    "\n",
    "\n"
   ]
  },
  {
   "cell_type": "code",
   "execution_count": 11,
   "metadata": {},
   "outputs": [
    {
     "name": "stdout",
     "output_type": "stream",
     "text": [
      "Enter the numbers seperated by comma: 1,-4,8\n",
      "Square of numbers: [1, 16, 64]\n"
     ]
    }
   ],
   "source": [
    "# 50(b)square of numbers\n",
    "n=input(\"Enter the numbers seperated by comma: \").split(\",\")\n",
    "b=map(int,n)\n",
    "nl=[x for x in b if x>0]\n",
    "d=map (int,n)\n",
    "#square of n numbers \n",
    "nl2=[x**2 for x in d]\n",
    "print(\"Square of numbers:\", nl2) \n",
    "\n"
   ]
  },
  {
   "cell_type": "code",
   "execution_count": 8,
   "metadata": {},
   "outputs": [
    {
     "name": "stdout",
     "output_type": "stream",
     "text": [
      "Enter the words: anu\n",
      "The ordinal values of the word anu is [97, 110, 117]\n"
     ]
    }
   ],
   "source": [
    "#50(c) ordinal value\n",
    "w=input(\"Enter the words: \")\n",
    "z=[ord (x) for x in w] \n",
    "print(\"The ordinal values of the word %s is %s\" % (w,z))"
   ]
  },
  {
   "cell_type": "code",
   "execution_count": 12,
   "metadata": {},
   "outputs": [
    {
     "name": "stdout",
     "output_type": "stream",
     "text": [
      "Enter the words: world\n",
      "The Vowels are: ['o']\n"
     ]
    }
   ],
   "source": [
    "#50(d) vowels \n",
    "w=input(\"Enter the words: \")\n",
    "vowels=[\"a\", \"e\", \"i\", \"o\", \"u\", 'A', 'E', '1', '0', 'U'] \n",
    "list=[v for v in w if any (char in vowels for char in v)]\n",
    "print(\"The Vowels are:\", list)\n"
   ]
  },
  {
   "cell_type": "code",
   "execution_count": null,
   "metadata": {},
   "outputs": [],
   "source": []
  }
 ],
 "metadata": {
  "kernelspec": {
   "display_name": "Python 3",
   "language": "python",
   "name": "python3"
  },
  "language_info": {
   "codemirror_mode": {
    "name": "ipython",
    "version": 3
   },
   "file_extension": ".py",
   "mimetype": "text/x-python",
   "name": "python",
   "nbconvert_exporter": "python",
   "pygments_lexer": "ipython3",
   "version": "3.7.11"
  }
 },
 "nbformat": 4,
 "nbformat_minor": 4
}
