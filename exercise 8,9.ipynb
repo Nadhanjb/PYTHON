{
 "cells": [
  {
   "cell_type": "code",
   "execution_count": 1,
   "metadata": {},
   "outputs": [
    {
     "name": "stdout",
     "output_type": "stream",
     "text": [
      "Enter first year: 2000\n",
      "Enter second year: 2023\n",
      "Leap years between  2000 and 2023 :\n",
      "2000\n",
      "2004\n",
      "2008\n",
      "2012\n",
      "2016\n",
      "2020\n"
     ]
    }
   ],
   "source": [
    "#leap using function\n",
    "def leap(lower,upper):\n",
    "    print(\"Leap years between \",lower, \"and\", upper, \":\")\n",
    "    for i in range (lower,upper+1):\n",
    "        if(i%4==0) and (i%100!=0)or(i%400==0):\n",
    "            print(i)\n",
    "year1=int(input(\"Enter first year: \"))\n",
    "year2=int(input(\"Enter second year: \"))\n",
    "leap(year1,year2)"
   ]
  },
  {
   "cell_type": "code",
   "execution_count": 5,
   "metadata": {},
   "outputs": [
    {
     "name": "stdout",
     "output_type": "stream",
     "text": [
      "1.Square\n",
      "2. Rectangle\n",
      "3.Triangle\n",
      "4.Exit\n",
      "Enter your choice: 1\n",
      "Enter side: 2\n",
      "Area of square is:  4\n",
      "1.Square\n",
      "2. Rectangle\n",
      "3.Triangle\n",
      "4.Exit\n",
      "Enter your choice: 2\n",
      "Enter length: 4\n",
      "Enter breadth: 2\n",
      "Area of Rectangle is:  8\n",
      "1.Square\n",
      "2. Rectangle\n",
      "3.Triangle\n",
      "4.Exit\n",
      "Enter your choice: 3\n",
      "Enter base: 10\n",
      "Enter height: 5\n",
      "Area of Triangle is:  25.0\n",
      "1.Square\n",
      "2. Rectangle\n",
      "3.Triangle\n",
      "4.Exit\n",
      "Enter your choice: 4\n",
      "Exiting...\n"
     ]
    }
   ],
   "source": [
    "#using lamda area of circle,rectangle and square\n",
    "sqr=lambda a:a*a\n",
    "rect=lambda l,b:l*b\n",
    "tri=lambda b,h: (b*h)/2\n",
    "while(1):\n",
    "    print(\"1.Square\\n2. Rectangle\\n3.Triangle\\n4.Exit\")\n",
    "    ch=int(input(\"Enter your choice: \"))\n",
    "    if (ch==1):\n",
    "        a=int(input(\"Enter side: \"))\n",
    "        print(\"Area of square is: \",sqr(a)) \n",
    "    elif (ch==2):\n",
    "        l = int(input(\"Enter length: \"))\n",
    "        b = int(input(\"Enter breadth: \"))\n",
    "        print(\"Area of Rectangle is: \",rect(l,b))\n",
    "    elif (ch==3):\n",
    "        b = int(input(\"Enter base: \"))\n",
    "        h = int(input(\"Enter height: \"))\n",
    "        print(\"Area of Triangle is: \",tri(b,h))\n",
    "    else:\n",
    "        print(\"Exiting...\")\n",
    "        break\n"
   ]
  },
  {
   "cell_type": "markdown",
   "metadata": {},
   "source": []
  },
  {
   "cell_type": "code",
   "execution_count": null,
   "metadata": {},
   "outputs": [],
   "source": []
  },
  {
   "cell_type": "code",
   "execution_count": 6,
   "metadata": {},
   "outputs": [
    {
     "name": "stdout",
     "output_type": "stream",
     "text": [
      "Enter a word: draw\n",
      "New word:  drawing\n"
     ]
    }
   ],
   "source": [
    "# ing + ly\n",
    "word=input(\"Enter a word: \")\n",
    "str1=word[-3:]\n",
    "if str1=='ing':\n",
    "    word=word+'ly'\n",
    "else:\n",
    " word=word+'ing'\n",
    "print(\"New word: \",word)"
   ]
  },
  {
   "cell_type": "code",
   "execution_count": 8,
   "metadata": {},
   "outputs": [
    {
     "name": "stdout",
     "output_type": "stream",
     "text": [
      "Enter a list of words with comma seperated: nadha najeeb,aysha,nadha\n",
      "Length of longest word:  12\n"
     ]
    }
   ],
   "source": [
    "#longest word\n",
    "list1=[]\n",
    "list2=list(map(str,input(\"Enter a list of words with comma seperated: \").split(\",\")))\n",
    "for i in list2:\n",
    "    list1.append(len(i))\n",
    "print(\"Length of longest word: \",max(list1))"
   ]
  },
  {
   "cell_type": "code",
   "execution_count": 10,
   "metadata": {},
   "outputs": [
    {
     "name": "stdout",
     "output_type": "stream",
     "text": [
      "Enter 4 digit lower range: 4000\n",
      "Enter 4 digit upper range: 8000\n",
      "list:  [4624, 6084, 6400]\n"
     ]
    }
   ],
   "source": [
    "\n",
    "import math\n",
    "n1=int(input(\"Enter 4 digit lower range: \"))\n",
    "n2=int(input(\"Enter 4 digit upper range: \"))\n",
    "l=[]\n",
    "x=0\n",
    "for i in range (n1,n2):\n",
    "    x=i\n",
    "    while(x!=0):\n",
    "        k1=x%10\n",
    "        x=int(x/10)\n",
    "        k2=x%10\n",
    "        x=int(x/10)\n",
    "        k3=x%10\n",
    "        x=int(x/10)\n",
    "        k4 = x % 10\n",
    "        x = int(x / 10)\n",
    "        sq=int(math.sqrt(i))\n",
    "        if (sq*sq==i):\n",
    "            if (k1%2==0 and k2%2==0 and k3%2==0 and k4%2==0):\n",
    "                 l.append(i)\n",
    "print(\"list: \",l)\n"
   ]
  },
  {
   "cell_type": "code",
   "execution_count": null,
   "metadata": {},
   "outputs": [],
   "source": []
  }
 ],
 "metadata": {
  "kernelspec": {
   "display_name": "Python 3",
   "language": "python",
   "name": "python3"
  },
  "language_info": {
   "codemirror_mode": {
    "name": "ipython",
    "version": 3
   },
   "file_extension": ".py",
   "mimetype": "text/x-python",
   "name": "python",
   "nbconvert_exporter": "python",
   "pygments_lexer": "ipython3",
   "version": "3.7.11"
  }
 },
 "nbformat": 4,
 "nbformat_minor": 4
}
