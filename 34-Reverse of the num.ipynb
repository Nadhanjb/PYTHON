{
 "cells": [
  {
   "cell_type": "code",
   "execution_count": 2,
   "metadata": {},
   "outputs": [
    {
     "name": "stdout",
     "output_type": "stream",
     "text": [
      "Enter a number:5687\n",
      "reverse of 5687 is 7865\n"
     ]
    }
   ],
   "source": [
    "#revers of a number\n",
    "num=int(input(\"Enter a number:\"))\n",
    "rev_num=0\n",
    "b=num\n",
    "while(num!=0):\n",
    "    a=num%10\n",
    "    rev_num=rev_num*10+a\n",
    "    num=num//10\n",
    "print(\"reverse of %d is %d\" %(b,rev_num))     "
   ]
  },
  {
   "cell_type": "code",
   "execution_count": null,
   "metadata": {},
   "outputs": [],
   "source": []
  }
 ],
 "metadata": {
  "kernelspec": {
   "display_name": "Python 3",
   "language": "python",
   "name": "python3"
  },
  "language_info": {
   "codemirror_mode": {
    "name": "ipython",
    "version": 3
   },
   "file_extension": ".py",
   "mimetype": "text/x-python",
   "name": "python",
   "nbconvert_exporter": "python",
   "pygments_lexer": "ipython3",
   "version": "3.7.11"
  }
 },
 "nbformat": 4,
 "nbformat_minor": 4
}
