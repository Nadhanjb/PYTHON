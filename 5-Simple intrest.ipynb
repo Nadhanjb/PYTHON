{
 "cells": [
  {
   "cell_type": "code",
   "execution_count": 1,
   "metadata": {},
   "outputs": [
    {
     "name": "stdout",
     "output_type": "stream",
     "text": [
      "enter principle amount:100000\n",
      "enter no.of years:3\n",
      "rate of intrest:4\n",
      "intrest= 12000.0\n"
     ]
    }
   ],
   "source": [
    "p=float(input(\"enter principle amount:\"))\n",
    "n=int(input(\"enter no.of years:\"))\n",
    "r=float(input(\"rate of intrest:\"))\n",
    "i=(p*n*r)/100\n",
    "print(\"intrest=\",i)"
   ]
  },
  {
   "cell_type": "code",
   "execution_count": null,
   "metadata": {},
   "outputs": [],
   "source": []
  }
 ],
 "metadata": {
  "kernelspec": {
   "display_name": "Python 3",
   "language": "python",
   "name": "python3"
  },
  "language_info": {
   "codemirror_mode": {
    "name": "ipython",
    "version": 3
   },
   "file_extension": ".py",
   "mimetype": "text/x-python",
   "name": "python",
   "nbconvert_exporter": "python",
   "pygments_lexer": "ipython3",
   "version": "3.7.11"
  }
 },
 "nbformat": 4,
 "nbformat_minor": 4
}
