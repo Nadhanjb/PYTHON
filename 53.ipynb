{
 "cells": [
  {
   "cell_type": "code",
   "execution_count": null,
   "metadata": {},
   "outputs": [],
   "source": [
    "#52 occurence of a in list\n",
    "values = []\n",
    "while True:\n",
    "  value = input(\"Enter an integer (enter 'done' to stop): \")\n",
    "  if value == 'done':\n",
    "    break\n",
    "  elif int(value) > 100:\n",
    "    values.append('over')\n",
    "  else:\n",
    "    values.append(int(value))\n",
    "print(values)"
   ]
  },
  {
   "cell_type": "code",
   "execution_count": 16,
   "metadata": {},
   "outputs": [
    {
     "name": "stdout",
     "output_type": "stream",
     "text": [
      "Two lists have unequal size\n",
      "Sum of two list are  not equal\n",
      "8  occurs in both list\n"
     ]
    }
   ],
   "source": [
    "#53 number length,sum,same value\n",
    "list_1 =['1','2','3','8']\n",
    "list_2 = ['8','9','10']\n",
    "sum1 = str(0)\n",
    "sum2 = str(0)\n",
    "if len(list_1) == len(list_2):\n",
    "    print(\"both list are of equal in size\")\n",
    "else:\n",
    "    print(\"Two lists have unequal in size\")\n",
    "for x in list_1:\n",
    "    sum1 = sum1 + x\n",
    "for x in list_2:\n",
    "    sum2 = sum2 + x\n",
    "if sum1 == sum2:\n",
    "    length = \"equal\"  \n",
    "else:\n",
    "    length = \"not equal\"  \n",
    "print(\"Sum of two list are \", length)  \n",
    "for x in list_1:\n",
    "    for y in list_2:\n",
    "        if x == y:\n",
    "            print(y,\" occurs in both list\")\n"
   ]
  },
  {
   "cell_type": "code",
   "execution_count": null,
   "metadata": {},
   "outputs": [],
   "source": []
  }
 ],
 "metadata": {
  "kernelspec": {
   "display_name": "Python 3",
   "language": "python",
   "name": "python3"
  },
  "language_info": {
   "codemirror_mode": {
    "name": "ipython",
    "version": 3
   },
   "file_extension": ".py",
   "mimetype": "text/x-python",
   "name": "python",
   "nbconvert_exporter": "python",
   "pygments_lexer": "ipython3",
   "version": "3.7.11"
  }
 },
 "nbformat": 4,
 "nbformat_minor": 4
}
