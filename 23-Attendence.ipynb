{
 "cells": [
  {
   "cell_type": "code",
   "execution_count": 6,
   "metadata": {},
   "outputs": [
    {
     "name": "stdout",
     "output_type": "stream",
     "text": [
      "enter the number of classes that held:100\n",
      "enter the number of classes that attended:45\n",
      "45.00\n",
      "not allowed\n"
     ]
    }
   ],
   "source": [
    "ch=int(input(\"enter the number of classes that held:\"))\n",
    "ca=int(input(\"enter the number of classes that attended:\"))\n",
    "per=(ca/ch)*100\n",
    "print(\"%.2f\"%per)\n",
    "if(per>=75):\n",
    "    print(\"allowed\")\n",
    "else:\n",
    "    print(\"not allowed\")\n",
    "        "
   ]
  },
  {
   "cell_type": "code",
   "execution_count": null,
   "metadata": {},
   "outputs": [],
   "source": []
  },
  {
   "cell_type": "code",
   "execution_count": null,
   "metadata": {},
   "outputs": [],
   "source": []
  }
 ],
 "metadata": {
  "kernelspec": {
   "display_name": "Python 3",
   "language": "python",
   "name": "python3"
  },
  "language_info": {
   "codemirror_mode": {
    "name": "ipython",
    "version": 3
   },
   "file_extension": ".py",
   "mimetype": "text/x-python",
   "name": "python",
   "nbconvert_exporter": "python",
   "pygments_lexer": "ipython3",
   "version": "3.7.11"
  }
 },
 "nbformat": 4,
 "nbformat_minor": 4
}
