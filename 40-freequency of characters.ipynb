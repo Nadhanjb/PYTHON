{
 "cells": [
  {
   "cell_type": "code",
   "execution_count": 4,
   "metadata": {},
   "outputs": [
    {
     "name": "stdout",
     "output_type": "stream",
     "text": [
      "Enter the string:nadha\n",
      "n is repeated 1 times\n",
      "a is repeated 2 times\n",
      "d is repeated 1 times\n",
      "h is repeated 1 times\n"
     ]
    }
   ],
   "source": [
    "# 40 frequency of characters\n",
    "string=input(\"Enter the string:\")\n",
    "freq={}\n",
    "for i in string:\n",
    "    if i in freq:\n",
    "        freq[i]=freq[i]+1\n",
    "    else:\n",
    "        freq[i]=1\n",
    "for keys, value in freq.items():\n",
    "    print(keys,\"is repeated\",value,\"times\")"
   ]
  },
  {
   "cell_type": "code",
   "execution_count": null,
   "metadata": {},
   "outputs": [],
   "source": []
  }
 ],
 "metadata": {
  "kernelspec": {
   "display_name": "Python 3",
   "language": "python",
   "name": "python3"
  },
  "language_info": {
   "codemirror_mode": {
    "name": "ipython",
    "version": 3
   },
   "file_extension": ".py",
   "mimetype": "text/x-python",
   "name": "python",
   "nbconvert_exporter": "python",
   "pygments_lexer": "ipython3",
   "version": "3.7.11"
  }
 },
 "nbformat": 4,
 "nbformat_minor": 4
}
