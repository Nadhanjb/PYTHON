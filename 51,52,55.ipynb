{
 "cells": [
  {
   "cell_type": "code",
   "execution_count": 2,
   "metadata": {},
   "outputs": [
    {
     "name": "stdout",
     "output_type": "stream",
     "text": [
      "Enter an integer (enter 'done' to stop): 100\n",
      "Enter an integer (enter 'done' to stop): 120\n",
      "Enter an integer (enter 'done' to stop): 50\n",
      "Enter an integer (enter 'done' to stop): done\n",
      "[100, 'over', 50]\n"
     ]
    }
   ],
   "source": [
    "#51 100>done\n",
    "values = []\n",
    "while True:\n",
    "  value = input(\"Enter an integer (enter 'done' to stop): \")\n",
    "  if value == 'done':\n",
    "    break\n",
    "  elif int(value) > 100:\n",
    "    values.append('over')\n",
    "  else:\n",
    "    values.append(int(value))\n",
    "print(values)\n"
   ]
  },
  {
   "cell_type": "code",
   "execution_count": null,
   "metadata": {},
   "outputs": [],
   "source": [
    "#52 occurance of a\n"
   ]
  },
  {
   "cell_type": "code",
   "execution_count": 3,
   "metadata": {},
   "outputs": [
    {
     "name": "stdout",
     "output_type": "stream",
     "text": [
      "List Items =  [11, 22, 31, 44, 51, 65, 71, 86, 91]\n",
      "List after removing even Numbers =  [11, 31, 51, 65, 71, 91]\n"
     ]
    }
   ],
   "source": [
    "#55removal of even numbers\n",
    "List = [11, 22, 31, 44, 51, 65, 71, 86, 91]\n",
    "print(\"List Items = \", List)\n",
    " \n",
    "for even in List:\n",
    "    if (even % 2 == 0):\n",
    "        List.remove(even)\n",
    "   \n",
    "print(\"List after removing even Numbers = \", List)\n"
   ]
  },
  {
   "cell_type": "code",
   "execution_count": null,
   "metadata": {},
   "outputs": [],
   "source": []
  }
 ],
 "metadata": {
  "kernelspec": {
   "display_name": "Python 3",
   "language": "python",
   "name": "python3"
  },
  "language_info": {
   "codemirror_mode": {
    "name": "ipython",
    "version": 3
   },
   "file_extension": ".py",
   "mimetype": "text/x-python",
   "name": "python",
   "nbconvert_exporter": "python",
   "pygments_lexer": "ipython3",
   "version": "3.7.11"
  }
 },
 "nbformat": 4,
 "nbformat_minor": 4
}
