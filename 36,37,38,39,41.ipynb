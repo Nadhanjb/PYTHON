{
 "cells": [
  {
   "cell_type": "code",
   "execution_count": 1,
   "metadata": {},
   "outputs": [
    {
     "name": "stdout",
     "output_type": "stream",
     "text": [
      "0 1 3 4 6 7 8 9 10 \n",
      "\n"
     ]
    }
   ],
   "source": [
    "# 37 skip 2,5\n",
    "for x in range(11):\n",
    "    if (x == 2 or x==5):\n",
    "        continue\n",
    "    print(x,end=' ')\n",
    "print(\"\\n\")"
   ]
  },
  {
   "cell_type": "code",
   "execution_count": 2,
   "metadata": {},
   "outputs": [
    {
     "name": "stdout",
     "output_type": "stream",
     "text": [
      "*\n",
      "\n",
      "**\n",
      "\n",
      "***\n",
      "\n",
      "****\n",
      "\n",
      "*****\n",
      "\n",
      "****\n",
      "\n",
      "***\n",
      "\n",
      "**\n",
      "\n",
      "*\n",
      "\n"
     ]
    }
   ],
   "source": [
    "# 41 pyramid using *\n",
    "for i in range(0,4):\n",
    "    for j in range(0,i+1):\n",
    "        print(\"*\",end=\"\")\n",
    "    print(\"\\n\")\n",
    "for i in range(4,-1,-1):\n",
    "    for j in range(0,i+1):\n",
    "        print(\"*\",end=\"\")\n",
    "    print(\"\\n\")"
   ]
  },
  {
   "cell_type": "code",
   "execution_count": 3,
   "metadata": {},
   "outputs": [
    {
     "name": "stdout",
     "output_type": "stream",
     "text": [
      "enter the limit:5\n",
      "the step pyramid is:\n",
      "1 \n",
      "\n",
      "2 4 \n",
      "\n",
      "3 6 9 \n",
      "\n",
      "4 8 12 16 \n",
      "\n",
      "5 10 15 20 25 \n",
      "\n"
     ]
    }
   ],
   "source": [
    "# 39 pyramid using numbers\n",
    "a=int(input(\"enter the limit:\"))\n",
    "print(\"the step pyramid is:\")\n",
    "for i in range(1,a+1):\n",
    "    for j in range(1,i+1):\n",
    "        print(i*j,end=\" \")\n",
    "    print(\"\\n\")"
   ]
  },
  {
   "cell_type": "code",
   "execution_count": 5,
   "metadata": {},
   "outputs": [
    {
     "name": "stdout",
     "output_type": "stream",
     "text": [
      "Enter a string:nada123\n",
      "letters in nada123 is 4\n",
      "digits in nada123 is 3\n"
     ]
    }
   ],
   "source": [
    "# 36 count number and count in a string\n",
    "a=input(\"Enter a string:\")\n",
    "x=y=0\n",
    "for i in a:\n",
    "    if i.isdigit():\n",
    "        x=x+1\n",
    "    elif i.isalpha():\n",
    "        y=y+1\n",
    "    else:\n",
    "        pass\n",
    "print(\"letters in %s is %s\"%(a,y))\n",
    "print(\"digits in %s is %s\"%(a,x))"
   ]
  },
  {
   "cell_type": "markdown",
   "metadata": {},
   "source": []
  },
  {
   "cell_type": "code",
   "execution_count": 1,
   "metadata": {},
   "outputs": [
    {
     "name": "stdout",
     "output_type": "stream",
     "text": [
      "Enter numbers with comma separated:1,99,100\n",
      "sum of elements in list  ['1', '99', '100'] is:  200\n"
     ]
    }
   ],
   "source": [
    "# 38 sum of all items in a list\n",
    "a=input(\"Enter numbers with comma separated:\")\n",
    "b=a.split(\",\")\n",
    "l=len(b)\n",
    "d=0\n",
    "i=0\n",
    "for i in range(l):\n",
    "    c=int(b[i])\n",
    "    d=d+c\n",
    "print(\"sum of elements in list \",b,\"is: \",d)"
   ]
  },
  {
   "cell_type": "code",
   "execution_count": null,
   "metadata": {},
   "outputs": [],
   "source": [
    "\n"
   ]
  }
 ],
 "metadata": {
  "kernelspec": {
   "display_name": "Python 3",
   "language": "python",
   "name": "python3"
  },
  "language_info": {
   "codemirror_mode": {
    "name": "ipython",
    "version": 3
   },
   "file_extension": ".py",
   "mimetype": "text/x-python",
   "name": "python",
   "nbconvert_exporter": "python",
   "pygments_lexer": "ipython3",
   "version": "3.7.11"
  }
 },
 "nbformat": 4,
 "nbformat_minor": 4
}
