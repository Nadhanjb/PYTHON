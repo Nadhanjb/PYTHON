{
 "cells": [
  {
   "cell_type": "code",
   "execution_count": 17,
   "metadata": {},
   "outputs": [
    {
     "name": "stdout",
     "output_type": "stream",
     "text": [
      "Enter length of Rectangle1: 2\n",
      "Enter breadth of Rectangle1:4\n",
      "Enter length of Rectangle2:8\n",
      "Enter breadth of Rectangle2:5\n",
      "Area of rectangle1: 8\n",
      "Perimeter of rectangle1: 12\n",
      "Area of rectangle2: 40\n",
      "Perimeter of rectangle2: 26\n",
      "Rectagle 2 is greater\n"
     ]
    }
   ],
   "source": [
    "class rectangle():\n",
    "    def get(self,l,b):\n",
    "        self.l=l\n",
    "        self.b=b\n",
    "    def area(self,l,b):\n",
    "        return l*b\n",
    "    def perimeter(self,l,b):\n",
    "        return 2*(l+b)\n",
    "r1=rectangle() \n",
    "r2=rectangle()\n",
    "l1=int(input(\"Enter length of Rectangle1: \"))\n",
    "b1=int(input(\"Enter breadth of Rectangle1:\"))\n",
    "l2=int(input(\"Enter length of Rectangle2:\"))\n",
    "b2=int(input(\"Enter breadth of Rectangle2:\")) \n",
    "print(\"Area of rectangle1:\",l1*b1)\n",
    "print(\"Perimeter of rectangle1:\",2*(l1+b1))\n",
    "print(\"Area of rectangle2:\",l2*b2)\n",
    "print(\"Perimeter of rectangle2:\",2*(l2+b2))\n",
    "p=r1.area(l1,b1)\n",
    "q=r2.area(l2,b2)\n",
    "if(p>q):\n",
    "     print(\"Rectangle 1 is greater\")\n",
    "elif(p<q):\n",
    "     print(\"Rectagle 2 is greater\")\n",
    "else:\n",
    "     print(\"Rectangles are equal\")"
   ]
  },
  {
   "cell_type": "code",
   "execution_count": 9,
   "metadata": {},
   "outputs": [
    {
     "name": "stdout",
     "output_type": "stream",
     "text": [
      "Enter name: neda\n",
      "Enter account number: 345698\n",
      "Enter account type: savings\n",
      "Enter initial balance: 600\n",
      "1. Deposit 2. Withdraw 3. Account info 4.Exit\n",
      " Choose your option: 3\n",
      "Account holder Name:  neda\n",
      "Account Number:  345698\n",
      "Account Type:  savings\n",
      "Account Balance:  600\n",
      "1. Deposit 2. Withdraw 3. Account info 4.Exit\n",
      " Choose your option: 1\n",
      "Deposit amount: 9000\n",
      "Initial balance:  600\n",
      "9000 is deposited\n",
      "current balance:  9600\n",
      "1. Deposit 2. Withdraw 3. Account info 4.Exit\n",
      " Choose your option: 2\n",
      "Withdraw amount: 2000\n",
      "Initial balance:  9600\n",
      "2000  is withdrawed\n",
      "Current balance:  7600\n",
      "1. Deposit 2. Withdraw 3. Account info 4.Exit\n",
      " Choose your option: 4\n",
      "Exiting...\n"
     ]
    }
   ],
   "source": [
    "class bankaccount:\n",
    "    def __init__(self,a_name, a_no,a_type,a_balance):\n",
    "        self.acc_name=a_name\n",
    "        self.acc_no=a_no\n",
    "        self.acc_type=a_type\n",
    "        self.acc_balance=a_balance\n",
    "    def deposit(self,a_deposit):\n",
    "        print(\"Initial balance: \",self.acc_balance)\n",
    "        self.acc_balance+=a_deposit\n",
    "        print(a_deposit, \"is deposited\")\n",
    "        print(\"current balance: \",self.acc_balance)\n",
    "    def withdraw(self):\n",
    "        self.amount=int(input(\"Withdraw amount: \"))\n",
    "        print(\"Initial balance: \",self.acc_balance)\n",
    "        if self.amount > self.acc_balance:\n",
    "            print(\"You don't have enough balance to withdraw !!\")\n",
    "            print(\"Current balance: \",self.acc_balance)\n",
    "        else:\n",
    "            print(self.amount,\" is withdrawed\")\n",
    "            self.acc_balance-=self.amount\n",
    "            print(\"Current balance: \",self.acc_balance)\n",
    "    def acc_info(self):\n",
    "        print(\"Account holder Name: \", self.acc_name)\n",
    "        print(\"Account Number: \", self.acc_no)\n",
    "        print(\"Account Type: \", self.acc_type)\n",
    "        print(\"Account Balance: \", self.acc_balance)\n",
    "name=input(\"Enter name: \")\n",
    "no=int(input(\"Enter account number: \"))\n",
    "type=input(\"Enter account type: \")\n",
    "bal=int(input(\"Enter initial balance: \"))\n",
    "holder=bankaccount(name,no,type,bal)\n",
    "while(True):\n",
    "    ch=int(input(\"1. Deposit 2. Withdraw 3. Account info 4.Exit\\n Choose your option: \"))\n",
    "    if ch==1:\n",
    "        amount=int(input(\"Deposit amount: \"))\n",
    "        holder.deposit(amount)\n",
    "    elif ch==2:\n",
    "        holder.withdraw()\n",
    "    elif ch==3:\n",
    "        holder.acc_info()\n",
    "    else:\n",
    "        print(\"Exiting...\")\n",
    "        break"
   ]
  },
  {
   "cell_type": "code",
   "execution_count": 12,
   "metadata": {},
   "outputs": [
    {
     "name": "stdout",
     "output_type": "stream",
     "text": [
      "Enter publisher name: dc books \n",
      "Enter book name: c programming\n",
      "Enter author name: jj thomson\n",
      "Enter rate of book: 859\n",
      "Enter no. of pages: 450\n",
      "--BOOK DETAILS-- \n",
      "Publisher name= dc books \n",
      "Title= c programming\n",
      "Author jj thomson\n",
      "Rate= 859\n",
      "No. of pages= 450\n"
     ]
    }
   ],
   "source": [
    "class publisher:\n",
    "    def display2(self):\n",
    "        print(\"Title=\",self.title)\n",
    "        print(\"Author\",self.auth)\n",
    "    def __init__(self,pname):\n",
    "        self.pubname=pname\n",
    "    def display1(self):\n",
    "        print(\"--BOOK DETAILS-- \\nPublisher name=\",self.pubname) \n",
    "class book(publisher):\n",
    "    def __init__(self,pname,bname,author):\n",
    "        self.title=bname\n",
    "        self.auth=author\n",
    "        publisher.__init__(self,pname)\n",
    "class python(book):\n",
    "    def __init__(self,pname,title,au,price,np):\n",
    "        self.rate=price\n",
    "        self.nop=np\n",
    "        book.__init__(self,pname,title,au)\n",
    "    def display3(self):\n",
    "        print(\"Rate=\",self.rate)\n",
    "        print(\"No. of pages=\", self.nop)  \n",
    "p=input(\"Enter publisher name: \")\n",
    "b=input(\"Enter book name: \")\n",
    "a=input(\"Enter author name: \")\n",
    "r=int(input(\"Enter rate of book: \"))\n",
    "n=int(input(\"Enter no. of pages: \"))\n",
    "a=python(p,b,a,r,n)\n",
    "a.display1()\n",
    "a.display2()\n",
    "a.display3()        "
   ]
  },
  {
   "cell_type": "code",
   "execution_count": 14,
   "metadata": {},
   "outputs": [
    {
     "name": "stdout",
     "output_type": "stream",
     "text": [
      "Enter length of rectangle1: 8\n",
      "Enter width of rectangle1: 2\n",
      "Enter length of rectangle2: 9\n",
      "Enter width of rectangle2: 1\n",
      "rectangle 1 is greater\n"
     ]
    }
   ],
   "source": [
    "class rectangle:\n",
    "    def __init__(self,l,w):\n",
    "        self.length=l\n",
    "        self.width=w\n",
    "        self.a=l*w\n",
    "    def __gt__(self,other):\n",
    "        if self.a < other.a:\n",
    "            print(\"rectangle 1 is greater\")\n",
    "        else:\n",
    "            print(\"rectangle 2 is greater\")\n",
    "l1=int(input(\"Enter length of rectangle1: \"))\n",
    "w1=int(input(\"Enter width of rectangle1: \"))\n",
    "l2=int(input(\"Enter length of rectangle2: \"))\n",
    "w2=int(input(\"Enter width of rectangle2: \"))\n",
    "\n",
    "r1=rectangle(l1,w1)\n",
    "r2=rectangle(l2,w2)\n",
    "r1<r2"
   ]
  },
  {
   "cell_type": "code",
   "execution_count": 2,
   "metadata": {},
   "outputs": [
    {
     "name": "stdout",
     "output_type": "stream",
     "text": [
      "Enter hour1: 2\n",
      "enter minute1: 3\n",
      "enter second1: 59\n",
      "Enter hour2: 3\n",
      "enter minute2: 57\n",
      "enter second2: 80\n",
      "Added time..\n",
      " Hour:  6 Minute:  2 Second:  19\n"
     ]
    }
   ],
   "source": [
    "class time:\n",
    "    def __init__(self,hr,mint,sec):\n",
    "        self.__h=hr\n",
    "        self.__m=mint\n",
    "        self.__s=sec\n",
    "    def __add__(self,other):\n",
    "        hh=self.__h+other.__h\n",
    "        ss=self.__s+other.__s\n",
    "        mm=self.__m+other.__m\n",
    "        if (ss>=60):\n",
    "            m=int(ss/60) \n",
    "            ss=ss%60\n",
    "            mm+=m\n",
    "        if (mm>=60):\n",
    "            h=int(mm/60)\n",
    "            mm=mm%60\n",
    "            hh+=h\n",
    "        print(\"Added time..\\n Hour: \",hh, \"Minute: \", mm,\"Second: \",ss)\n",
    "h1=int(input(\"Enter hour1: \"))\n",
    "m1=int(input(\"enter minute1: \"))\n",
    "s1=int(input(\"enter second1: \"))\n",
    "\n",
    "h2=int(input(\"Enter hour2: \"))\n",
    "m2=int(input(\"enter minute2: \"))\n",
    "s2=int(input(\"enter second2: \"))\n",
    "t1=time(h1,m1,s1)\n",
    "t2=time(h2,m2,s2)\n",
    "t1+t2"
   ]
  },
  {
   "cell_type": "code",
   "execution_count": null,
   "metadata": {},
   "outputs": [],
   "source": []
  }
 ],
 "metadata": {
  "kernelspec": {
   "display_name": "Python 3",
   "language": "python",
   "name": "python3"
  },
  "language_info": {
   "codemirror_mode": {
    "name": "ipython",
    "version": 3
   },
   "file_extension": ".py",
   "mimetype": "text/x-python",
   "name": "python",
   "nbconvert_exporter": "python",
   "pygments_lexer": "ipython3",
   "version": "3.7.11"
  }
 },
 "nbformat": 4,
 "nbformat_minor": 4
}
