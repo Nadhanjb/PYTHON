{
 "cells": [
  {
   "cell_type": "code",
   "execution_count": 2,
   "metadata": {},
   "outputs": [
    {
     "name": "stdout",
     "output_type": "stream",
     "text": [
      "Enter the numbers with comma seperated:2,3,4,7\n",
      "Average value of given numbers is: 4.0\n"
     ]
    }
   ],
   "source": [
    "#49 calculate the average value of the numbers in a given tuple.\n",
    "t=tuple(input(\"Enter the numbers with comma seperated:\").split(\",\"))\n",
    "l=len(t)\n",
    "c=0\n",
    "for i in range(l):\n",
    "    c=int(t[i])+c\n",
    "    avg=c/l\n",
    "print(\"Average value of given numbers is:\",avg)\n"
   ]
  },
  {
   "cell_type": "code",
   "execution_count": 19,
   "metadata": {},
   "outputs": [
    {
     "name": "stdout",
     "output_type": "stream",
     "text": [
      "Enter some numbers with comma separated:1,-4,-2,9\n",
      "Positive numbers: [1, 9]\n"
     ]
    }
   ],
   "source": [
    "#50(a) positive numbers\n",
    "num=input(\"Enter some numbers with comma separated:\").split(\",\")\n",
    "li=list(map(int,num))\n",
    "newli=[x for x in li if x>0]\n",
    "print(\"Positive numbers:\",newli)\n"
   ]
  },
  {
   "cell_type": "code",
   "execution_count": 14,
   "metadata": {},
   "outputs": [
    {
     "name": "stdout",
     "output_type": "stream",
     "text": [
      "Difference of color list1 and color list2:\n",
      "{'white', 'Black'}\n"
     ]
    }
   ],
   "source": [
    "#54 Print out all colors from color-list1 not contained in color-list2\n",
    "clr1 = set([\"white\", \"Black\", \"Red\"])\n",
    "clr2 = set([\"Red\", \"green\"])\n",
    "print(\"Difference of color list1 and color list2:\")\n",
    "print(clr1.difference(clr2))\n"
   ]
  },
  {
   "cell_type": "code",
   "execution_count": null,
   "metadata": {},
   "outputs": [],
   "source": []
  },
  {
   "cell_type": "code",
   "execution_count": null,
   "metadata": {},
   "outputs": [],
   "source": []
  },
  {
   "cell_type": "code",
   "execution_count": 3,
   "metadata": {},
   "outputs": [
    {
     "name": "stdout",
     "output_type": "stream",
     "text": [
      "First dictionary: {1: 'kozhikode', 2: 'alappuzha', 3: 'Kottayam'}\n",
      "Second dictionary: {4: 'pathanamthitta', 5: 'thrissur'}\n",
      "Merging two dictionaries: {1: 'kozhikode', 2: 'alappuzha', 3: 'Kottayam', 4: 'pathanamthitta', 5: 'thrissur'}\n"
     ]
    }
   ],
   "source": [
    "#57 Merge dictionaries.\n",
    "d1={1:'kozhikode',2:'alappuzha',3:'Kottayam'}\n",
    "d2={4:'pathanamthitta',5:'thrissur',}\n",
    "print(\"First dictionary:\",d1)\n",
    "print(\"Second dictionary:\",d2)\n",
    "d3=d1\n",
    "d1.update(d2)\n",
    "print(\"Merging two dictionaries:\",d3)"
   ]
  },
  {
   "cell_type": "code",
   "execution_count": 7,
   "metadata": {},
   "outputs": [
    {
     "name": "stdout",
     "output_type": "stream",
     "text": [
      "Ascending order is: [('ayisha', 8), ('nadha', 21), ('vaishnav', 2)]\n",
      "Descending order is: [('vaishnav', 2), ('nadha', 21), ('ayisha', 8)]\n"
     ]
    }
   ],
   "source": [
    "#56 Sort dictionary in ascending and descending order.\n",
    "dic={'ayisha':8,'vaishnav':2,'nadha':21}\n",
    "l=list(dic.items())\n",
    "l.sort()            \n",
    "print('Ascending order is:',l)\n",
    "l=list(dic.items())\n",
    "l.sort(reverse=True)\n",
    "print('Descending order is:',l)"
   ]
  },
  {
   "cell_type": "code",
   "execution_count": null,
   "metadata": {},
   "outputs": [],
   "source": []
  }
 ],
 "metadata": {
  "kernelspec": {
   "display_name": "Python 3",
   "language": "python",
   "name": "python3"
  },
  "language_info": {
   "codemirror_mode": {
    "name": "ipython",
    "version": 3
   },
   "file_extension": ".py",
   "mimetype": "text/x-python",
   "name": "python",
   "nbconvert_exporter": "python",
   "pygments_lexer": "ipython3",
   "version": "3.7.11"
  }
 },
 "nbformat": 4,
 "nbformat_minor": 2
}
