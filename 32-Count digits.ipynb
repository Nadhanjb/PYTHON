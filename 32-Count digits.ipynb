{
 "cells": [
  {
   "cell_type": "code",
   "execution_count": 11,
   "metadata": {},
   "outputs": [
    {
     "name": "stdout",
     "output_type": "stream",
     "text": [
      "enter a number:67593\n",
      "the number of digits in 67593 are 5\n"
     ]
    }
   ],
   "source": [
    "# count digits\n",
    "num=int(input(\"enter a number:\"))\n",
    "count=0\n",
    "a=num\n",
    "while(num>0):\n",
    "    count=count+1\n",
    "    num=num//10\n",
    "print(\"the number of digits in %d are %d\" %(a,count))\n",
    "    "
   ]
  },
  {
   "cell_type": "code",
   "execution_count": null,
   "metadata": {},
   "outputs": [],
   "source": []
  }
 ],
 "metadata": {
  "kernelspec": {
   "display_name": "Python 3",
   "language": "python",
   "name": "python3"
  },
  "language_info": {
   "codemirror_mode": {
    "name": "ipython",
    "version": 3
   },
   "file_extension": ".py",
   "mimetype": "text/x-python",
   "name": "python",
   "nbconvert_exporter": "python",
   "pygments_lexer": "ipython3",
   "version": "3.7.11"
  }
 },
 "nbformat": 4,
 "nbformat_minor": 4
}
