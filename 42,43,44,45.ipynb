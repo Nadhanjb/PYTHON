{
 "cells": [
  {
   "cell_type": "code",
   "execution_count": 5,
   "metadata": {},
   "outputs": [
    {
     "name": "stdout",
     "output_type": "stream",
     "text": [
      "Enter a number:5\n",
      "5 is a prime \n"
     ]
    }
   ],
   "source": [
    "# 43 prime number or not\n",
    "num=int(input(\"Enter a number:\"))\n",
    "if num>2:\n",
    "    for i in range(2,num):\n",
    "        if (num%i)==0:\n",
    "            print(num,\"is composite\")\n",
    "            break;\n",
    "    else:\n",
    "        print(num,\"is a prime \")\n",
    "    \n",
    "elif(num==0 or num==1):\n",
    "    print(num,\"is neither prime nor composite\")\n",
    "else:\n",
    "    print(num,\"is composite\")    \n",
    "        "
   ]
  },
  {
   "cell_type": "code",
   "execution_count": 3,
   "metadata": {},
   "outputs": [
    {
     "name": "stdout",
     "output_type": "stream",
     "text": [
      "Enter a starting number :1\n",
      "Enter a ending number :9\n",
      "prime number between 1 and 9 are : \n",
      "2\n",
      "3\n",
      "5\n",
      "7\n"
     ]
    }
   ],
   "source": [
    "# 45 prime intervel\n",
    "num1=int(input(\"Enter a starting number :\"))\n",
    "num2=int(input(\"Enter a ending number :\"))\n",
    "print(\"prime number between\",num1,\"and\",num2,\"are : \")   \n",
    "for i in range(num1,num2+1):\n",
    "    if (i>1):\n",
    "        for j in range(2,i):\n",
    "            if(i%j==0):\n",
    "                break\n",
    "        else:\n",
    "            print(i)"
   ]
  },
  {
   "cell_type": "code",
   "execution_count": 1,
   "metadata": {},
   "outputs": [
    {
     "name": "stdout",
     "output_type": "stream",
     "text": [
      "Enter a number:153\n",
      "153  is an armstrong number\n"
     ]
    }
   ],
   "source": [
    "# 44 armstrong or not\n",
    "num=int(input(\"Enter a number:\"))\n",
    "a=num\n",
    "sum=0\n",
    "while(a>0):\n",
    "    s=a%10\n",
    "    sum=sum+s**3\n",
    "    a=a//10\n",
    "if(num==sum):\n",
    "    print(num,\" is an armstrong number\")\n",
    "else:\n",
    "    print(num,\" is not an armstrong number\")"
   ]
  },
  {
   "cell_type": "code",
   "execution_count": 30,
   "metadata": {
    "scrolled": true
   },
   "outputs": [
    {
     "name": "stdout",
     "output_type": "stream",
     "text": [
      "Enter starting year:2001\n",
      "Enter ending year:2030\n",
      "leap year between 2001 and 2030 are: \n",
      "2004\n",
      "2008\n",
      "2012\n",
      "2016\n",
      "2020\n",
      "2024\n",
      "2028\n"
     ]
    }
   ],
   "source": [
    "# 42 leap year within a range\n",
    "start=int(input(\"Enter starting year:\"))\n",
    "end=int(input(\"Enter ending year:\"))\n",
    "print(\"leap year between\",start,\"and\",end,\"are: \")\n",
    "for i in range(start,end):\n",
    "    if(i%4==0 and i%100!=0 or i%400==0):\n",
    "        print(i)"
   ]
  },
  {
   "cell_type": "markdown",
   "metadata": {},
   "source": []
  },
  {
   "cell_type": "code",
   "execution_count": null,
   "metadata": {},
   "outputs": [],
   "source": [
    "\n",
    "\n",
    "\n",
    "\n",
    "\n"
   ]
  },
  {
   "cell_type": "code",
   "execution_count": null,
   "metadata": {},
   "outputs": [],
   "source": []
  }
 ],
 "metadata": {
  "kernelspec": {
   "display_name": "Python 3",
   "language": "python",
   "name": "python3"
  },
  "language_info": {
   "codemirror_mode": {
    "name": "ipython",
    "version": 3
   },
   "file_extension": ".py",
   "mimetype": "text/x-python",
   "name": "python",
   "nbconvert_exporter": "python",
   "pygments_lexer": "ipython3",
   "version": "3.7.11"
  }
 },
 "nbformat": 4,
 "nbformat_minor": 4
}
