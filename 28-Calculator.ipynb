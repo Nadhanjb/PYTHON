{
 "cells": [
  {
   "cell_type": "code",
   "execution_count": 11,
   "metadata": {},
   "outputs": [
    {
     "name": "stdout",
     "output_type": "stream",
     "text": [
      "Select the operation to perform:\n",
      "1.Addition\n",
      "2.Substraction\n",
      "3.Multiplication\n",
      "4.Division\n",
      "Enter the 1st number:7\n",
      "Enter the 2nd number:98\n",
      "Enter the choice:3\n",
      "Multiplication:686.00\n"
     ]
    }
   ],
   "source": [
    "print(\"Select the operation to perform:\")\n",
    "print(\"1.Addition\")\n",
    "print(\"2.Substraction\")\n",
    "print(\"3.Multiplication\")\n",
    "print(\"4.Division\")\n",
    "n1=float(input(\"Enter the 1st number:\"))\n",
    "n2=float(input(\"Enter the 2nd number:\"))\n",
    "choice=int(input(\"Enter the choice:\"))\n",
    "if(choice==1):\n",
    "  print(\"sum:%.2f\" %(n1+n2))\n",
    "elif(choice==2):\n",
    "  print(\"Difference:%.2f\" %(n1-n2))\n",
    "elif(choice==3):\n",
    "  print(\"Multiplication:%.2f\" %(n1*n2))\n",
    "elif(choice==4):\n",
    "  print(\"Division:%.2f\" %(n1/n2))\n",
    "else:\n",
    "  print(\"Invalid!\")"
   ]
  },
  {
   "cell_type": "code",
   "execution_count": null,
   "metadata": {},
   "outputs": [],
   "source": []
  },
  {
   "cell_type": "code",
   "execution_count": null,
   "metadata": {},
   "outputs": [],
   "source": []
  }
 ],
 "metadata": {
  "kernelspec": {
   "display_name": "Python 3",
   "language": "python",
   "name": "python3"
  },
  "language_info": {
   "codemirror_mode": {
    "name": "ipython",
    "version": 3
   },
   "file_extension": ".py",
   "mimetype": "text/x-python",
   "name": "python",
   "nbconvert_exporter": "python",
   "pygments_lexer": "ipython3",
   "version": "3.7.11"
  }
 },
 "nbformat": 4,
 "nbformat_minor": 4
}
