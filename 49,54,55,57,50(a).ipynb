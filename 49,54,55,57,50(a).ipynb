{
 "cells": [
  {
   "cell_type": "code",
   "execution_count": 21,
   "metadata": {},
   "outputs": [
    {
     "name": "stdout",
     "output_type": "stream",
     "text": [
      "Enter numbers with comma separatd:2,3,4,7\n",
      "Average value of given number is  4.0\n"
     ]
    }
   ],
   "source": [
    "#49 list average\n",
    "t=tuple(input(\"Enter numbers with comma separatd:\").split(\",\"))\n",
    "l=len(t)\n",
    "c=0\n",
    "for i in range(l):\n",
    "    c=int(t[i])+c\n",
    "    avg=c/l\n",
    "print(\"Average value of given number is \",avg)\n",
    "               \n"
   ]
  },
  {
   "cell_type": "code",
   "execution_count": 25,
   "metadata": {},
   "outputs": [
    {
     "name": "stdout",
     "output_type": "stream",
     "text": [
      "Enter some numbers with comma separated:-1,-2,1,2,5,0\n",
      "Positive numbers: [1, 2, 5]\n"
     ]
    }
   ],
   "source": [
    "#50(a) positive numbers in list\n",
    "num=input(\"Enter some numbers with comma separated:\").split(\",\")\n",
    "li=list(map(int,num))\n",
    "newli=[x for x in li if x>0]\n",
    "print(\"Positive numbers:\",newli)"
   ]
  },
  {
   "cell_type": "code",
   "execution_count": 26,
   "metadata": {},
   "outputs": [
    {
     "name": "stdout",
     "output_type": "stream",
     "text": [
      "Difference of color list1 and color list2:\n",
      "{'White', 'Black'}\n"
     ]
    }
   ],
   "source": [
    "#54 Print out all colors from color-list1 not contained in color-list2\n",
    "cl1 = set([\"White\", \"Black\", \"Red\"])\n",
    "cl2 = set([\"Red\", \"Green\"])\n",
    "print(\"Difference of color list1 and color list2:\")\n",
    "print(cl1.difference(cl2))"
   ]
  },
  {
   "cell_type": "code",
   "execution_count": 31,
   "metadata": {},
   "outputs": [
    {
     "name": "stdout",
     "output_type": "stream",
     "text": [
      "First dictionary: {1: 'kozhikode', 2: 'alappuzha', 3: 'kottayam'}\n",
      "Second dictionary: {4: 'pathanamthitta', 5: 'thrissur'}\n",
      "Merging two dictionaries: {1: 'kozhikode', 2: 'alappuzha', 3: 'kottayam', 4: 'pathanamthitta', 5: 'thrissur'}\n"
     ]
    }
   ],
   "source": [
    "#57 Merge dictionaries.\n",
    "d1={1:'kozhikode',2:'alappuzha',3:'kottayam'}\n",
    "d2={4:'pathanamthitta',5:'thrissur',}\n",
    "print(\"First dictionary:\",d1)\n",
    "print(\"Second dictionary:\",d2)\n",
    "d3=d1\n",
    "d1.update(d2)\n",
    "print(\"Merging two dictionaries:\",d3)"
   ]
  },
  {
   "cell_type": "code",
   "execution_count": 33,
   "metadata": {},
   "outputs": [
    {
     "name": "stdout",
     "output_type": "stream",
     "text": [
      "List is= [1, 3, 55, 74, 100, 46, 86]\n",
      "The new list after removal of even items= [1, 3, 55, 100, 86]\n"
     ]
    }
   ],
   "source": [
    "#55removal of even items\n",
    "l=[1,3,55, 74,100,46,86]\n",
    "print(\"List is=\",l)\n",
    "for i in l:\n",
    "    if(i%2==0):\n",
    "        l.remove(i)\n",
    "    \n",
    "print(\"The new list after removal of even items=\",l )"
   ]
  },
  {
   "cell_type": "code",
   "execution_count": null,
   "metadata": {},
   "outputs": [],
   "source": []
  }
 ],
 "metadata": {
  "kernelspec": {
   "display_name": "Python 3",
   "language": "python",
   "name": "python3"
  },
  "language_info": {
   "codemirror_mode": {
    "name": "ipython",
    "version": 3
   },
   "file_extension": ".py",
   "mimetype": "text/x-python",
   "name": "python",
   "nbconvert_exporter": "python",
   "pygments_lexer": "ipython3",
   "version": "3.7.11"
  }
 },
 "nbformat": 4,
 "nbformat_minor": 4
}
